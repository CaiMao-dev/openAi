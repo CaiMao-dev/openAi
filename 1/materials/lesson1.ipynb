{
 "cells": [
  {
   "cell_type": "markdown",
   "metadata": {},
   "source": [
    "# 1. 了解Python/FastAPI/OpenAI API\n",
    "## Python的基础"
   ]
  },
  {
   "cell_type": "code",
   "execution_count": null,
   "metadata": {},
   "outputs": [],
   "source": [
    "# 可以通过! pip3 执行类库安装\n",
    "! pip3 install pandas numpy"
   ]
  },
  {
   "cell_type": "code",
   "execution_count": null,
   "metadata": {},
   "outputs": [],
   "source": [
    "import numpy as np\n",
    "import pandas as pd\n",
    "\n",
    "# 定义变量和数据类型\n",
    "x = 10\n",
    "y = 3.14\n",
    "name = \"John\"\n",
    "is_valid = True\n",
    "# python 基础类型 int / float / str / bool / list /tuple / set / dict / NoneType\n",
    "\n",
    "# 打印变量的值\n",
    "print(\"x:\", x)\n",
    "print(\"y:\", y)\n",
    "print(\"name:\", name)\n",
    "\n",
    "print(\"is_valid:\", is_valid)"
   ]
  },
  {
   "cell_type": "code",
   "execution_count": null,
   "metadata": {},
   "outputs": [],
   "source": [
    "# 内置函数\n",
    "# 1. 打印文本或变量到控制台\n",
    "print(\"Hello, World!\")\n",
    "\n",
    "# 2. 返回序列的长度\n",
    "len([1, 2, 3])\n",
    "\n",
    "# 3. 接收用户输入的文本\n",
    "user_input = input(\"请输入一些文本：\")\n",
    "\n",
    "# 4. 数据类型转换\n",
    "int(\"42\")\n",
    "float(\"3.14\")\n",
    "str(123)\n",
    "\n",
    "# 5. 生成整数范围的序列\n",
    "range(5)  # 生成 0 到 4 的整数序列\n",
    "\n",
    "# 6. 创建列表、元组、集合和字典\n",
    "list1 = list([1, 2, 3])\n",
    "tuple1 = tuple((1, 2, 3))\n",
    "set1 = set([1, 2, 3])\n",
    "dict1 = dict(key1=1, key2=2)\n",
    "\n",
    "# 7. 对可迭代对象进行排序\n",
    "sorted([3, 1, 2])\n",
    "\n",
    "# 8. 返回最大值和最小值\n",
    "max([3, 1, 2])\n",
    "min([3, 1, 2])\n",
    "\n",
    "# 9. 返回可迭代对象的元素之和\n",
    "sum([1, 2, 3])\n",
    "\n",
    "# 10. 返回一个数的绝对值\n",
    "abs(-5)\n",
    "\n",
    "# 11. 四舍五入浮点数\n",
    "round(3.14159, 2)  # 保留两位小数\n",
    "\n",
    "# 12. 返回对象的类型\n",
    "type(\"Hello\")\n",
    "\n",
    "# 13. 创建整数范围的可迭代对象\n",
    "range(1, 6)  # 生成 1 到 5 的整数序列\n",
    "\n",
    "# 14. 打开文件\n",
    "file = open(\"example.txt\", \"r\")\n",
    "\n",
    "# 15. 接受用户输入\n",
    "user_input = input(\"请输入一些文本：\")\n",
    "\n",
    "# 16. 获取索引和元素值\n",
    "for index, value in enumerate([10, 20, 30]):\n",
    "    print(index, value)\n",
    "\n",
    "# 17. 合并多个可迭代对象\n",
    "for item1, item2 in zip([1, 2, 3], ['a', 'b', 'c']):\n",
    "    print(item1, item2)\n",
    "\n",
    "# 18. 格式化字符串\n",
    "formatted_string = \"Hello, {}!\".format(\"Python\")\n",
    "\n",
    "# 19. 将函数应用到可迭代对象的每个元素\n",
    "result = list(map(lambda x: x * 2, [1, 2, 3]))\n",
    "\n",
    "# 20. 根据给定函数的条件筛选可迭代对象的元素\n",
    "filtered_list = list(filter(lambda x: x > 2, [1, 2, 3, 4, 5]))"
   ]
  },
  {
   "cell_type": "code",
   "execution_count": null,
   "metadata": {},
   "outputs": [],
   "source": [
    "# 列表（List）示例\n",
    "fruits = [\"apple\", \"banana\", \"cherry\"]\n",
    "print(\"fruits:\", fruits)\n",
    "\n",
    "# 字典（Dictionary）示例\n",
    "person = {\n",
    "    \"name\": \"Alice\",\n",
    "    \"age\": 30,\n",
    "    \"city\": \"New York\"\n",
    "}\n",
    "print(\"person:\", person)\n",
    "\n",
    "# 元组（Tuple）示例\n",
    "my_tuple = (1, 2, 3, \"apple\", \"banana\")\n",
    "\n",
    "# 访问元组元素\n",
    "first_element = my_tuple[0]\n",
    "print(\"第一个元素:\", first_element)\n",
    "\n",
    "# 元组切片\n",
    "sub_tuple = my_tuple[:3]\n",
    "print(\"前三个元素:\", sub_tuple)\n",
    "\n",
    "# 遍历元组\n",
    "print(\"遍历元组:\")\n",
    "for item in my_tuple:\n",
    "    print(item)\n",
    "\n",
    "# 获取元组长度\n",
    "length = len(my_tuple)\n",
    "print(\"元组长度:\", length)\n"
   ]
  },
  {
   "cell_type": "code",
   "execution_count": null,
   "metadata": {},
   "outputs": [],
   "source": [
    "# 条件语句\n",
    "if x > 5:\n",
    "    print(\"x 大于 5\")\n",
    "else:\n",
    "    print(\"x 不大于 5\")\n",
    "\n",
    "# 循环示例\n",
    "for fruit in fruits:\n",
    "    print(fruit)\n",
    "\n",
    "# 函数定义和调用\n",
    "def add_numbers(a, b):\n",
    "    return a + b\n",
    "\n",
    "result = add_numbers(5, 7)\n",
    "print(\"Result of adding numbers:\", result)"
   ]
  },
  {
   "cell_type": "markdown",
   "metadata": {},
   "source": [
    "## FastAPI 使用"
   ]
  },
  {
   "cell_type": "code",
   "execution_count": null,
   "metadata": {},
   "outputs": [],
   "source": [
    "# 安装 FastAPI 和 Uvicorn\n",
    "! pip3 install fastapi uvicorn pydantic"
   ]
  },
  {
   "cell_type": "markdown",
   "metadata": {},
   "source": [
    "## OpenAI 使用"
   ]
  },
  {
   "cell_type": "code",
   "execution_count": null,
   "metadata": {},
   "outputs": [
    {
     "ename": "",
     "evalue": "",
     "output_type": "error",
     "traceback": [
      "\u001b[1;31m运行具有“/usr/bin/python3”的单元格需要ipykernel包。\n",
      "\u001b[1;31mRun the following command to install 'ipykernel' into the Python environment. \n",
      "\u001b[1;31mCommand: '/usr/bin/python3 -m pip install ipykernel -U --user --force-reinstall'"
     ]
    }
   ],
   "source": [
    "# 安装 openai\n",
    "! pip3 install openai==0.28.1\n",
    "\n",
    "# requirements.txt\n",
    "# openai == 0.28.1\n"
   ]
  },
  {
   "cell_type": "code",
   "execution_count": null,
   "metadata": {},
   "outputs": [],
   "source": [
    "import openai\n",
    "\n",
    "openai.api_key = '6c047dd3fd8e44bcbd2d6b94278c6251'\n",
    "openai.api_base = 'https://lbopenai.openai.azure.com/'\n",
    "openai.api_version = \"2023-03-15-preview\"\n",
    "openai.api_type = \"azure\"\n",
    "\n",
    "# system => 系统角色 user=>用户角色 assistant=>openai\n",
    "\n",
    "# user=> jintian\n",
    "# assistant => wofangwenbuliao\n",
    "# user=>\n",
    "messages = [\n",
    "    {\"role\":\"system\",\"content\":\"You will be provided with a tweet, and your task is to classify its sentiment as positive, neutral, or negative, and you must answer between [postive,neutral,nagative]\"},\n",
    "    {\"role\":\"user\",\"content\":\"Today is a good weather\"}\n",
    "]\n",
    "\n",
    "response = openai.ChatCompletion.create(\n",
    "    engine = \"gpt35\",\n",
    "    messages = messages,\n",
    "    max_tokens=1024,\n",
    ")\n",
    "print(response)"
   ]
  },
  {
   "cell_type": "code",
   "execution_count": null,
   "metadata": {},
   "outputs": [],
   "source": [
    "print(type(response['choices']))"
   ]
  }
 ],
 "metadata": {
  "kernelspec": {
   "display_name": "Python 3",
   "language": "python",
   "name": "python3"
  },
  "language_info": {
   "codemirror_mode": {
    "name": "ipython",
    "version": 3
   },
   "file_extension": ".py",
   "mimetype": "text/x-python",
   "name": "python",
   "nbconvert_exporter": "python",
   "pygments_lexer": "ipython3",
   "version": "3.8.2"
  }
 },
 "nbformat": 4,
 "nbformat_minor": 2
}
